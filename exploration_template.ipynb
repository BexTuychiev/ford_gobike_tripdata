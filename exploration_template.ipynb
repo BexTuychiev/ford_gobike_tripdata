{
 "cells": [
  {
   "cell_type": "markdown",
   "metadata": {},
   "source": [
    "# Ford GoBike Tripdata Exploration\n",
    "## by Bex\n",
    "\n",
    "## Preliminary Wrangling\n",
    "\n",
    "The dataset contains nearly 520k records of individual rides in a bike-sharing system of Ford in San Francisco Bay area for the year 2017. "
   ]
  },
  {
   "cell_type": "code",
   "execution_count": 46,
   "metadata": {},
   "outputs": [],
   "source": [
    "# import all packages and set plots to be embedded inline\n",
    "import numpy as np\n",
    "import pandas as pd\n",
    "import matplotlib.pyplot as plt\n",
    "import seaborn as sb\n",
    "import calendar\n",
    "import datetime as dt\n",
    "\n",
    "%matplotlib inline"
   ]
  },
  {
   "cell_type": "code",
   "execution_count": 42,
   "metadata": {},
   "outputs": [],
   "source": [
    "sb.set_style('darkgrid');"
   ]
  },
  {
   "cell_type": "code",
   "execution_count": 3,
   "metadata": {},
   "outputs": [],
   "source": [
    "# Read in the dataset\n",
    "df = pd.read_csv('data/fordgobike-tripdata-2017.csv')"
   ]
  },
  {
   "cell_type": "code",
   "execution_count": 5,
   "metadata": {
    "scrolled": true
   },
   "outputs": [
    {
     "data": {
      "text/plain": [
       "(519700, 13)"
      ]
     },
     "execution_count": 5,
     "metadata": {},
     "output_type": "execute_result"
    }
   ],
   "source": [
    "df.shape"
   ]
  },
  {
   "cell_type": "code",
   "execution_count": 6,
   "metadata": {},
   "outputs": [
    {
     "name": "stdout",
     "output_type": "stream",
     "text": [
      "<class 'pandas.core.frame.DataFrame'>\n",
      "RangeIndex: 519700 entries, 0 to 519699\n",
      "Data columns (total 13 columns):\n",
      " #   Column                   Non-Null Count   Dtype  \n",
      "---  ------                   --------------   -----  \n",
      " 0   duration_sec             519700 non-null  int64  \n",
      " 1   start_time               519700 non-null  object \n",
      " 2   end_time                 519700 non-null  object \n",
      " 3   start_station_id         519700 non-null  int64  \n",
      " 4   start_station_name       519700 non-null  object \n",
      " 5   start_station_latitude   519700 non-null  float64\n",
      " 6   start_station_longitude  519700 non-null  float64\n",
      " 7   end_station_id           519700 non-null  int64  \n",
      " 8   end_station_name         519700 non-null  object \n",
      " 9   end_station_latitude     519700 non-null  float64\n",
      " 10  end_station_longitude    519700 non-null  float64\n",
      " 11  bike_id                  519700 non-null  int64  \n",
      " 12  user_type                519700 non-null  object \n",
      "dtypes: float64(4), int64(4), object(5)\n",
      "memory usage: 51.5+ MB\n"
     ]
    }
   ],
   "source": [
    "df.info()"
   ]
  },
  {
   "cell_type": "code",
   "execution_count": 7,
   "metadata": {
    "scrolled": true
   },
   "outputs": [
    {
     "data": {
      "text/html": [
       "<div>\n",
       "<style scoped>\n",
       "    .dataframe tbody tr th:only-of-type {\n",
       "        vertical-align: middle;\n",
       "    }\n",
       "\n",
       "    .dataframe tbody tr th {\n",
       "        vertical-align: top;\n",
       "    }\n",
       "\n",
       "    .dataframe thead th {\n",
       "        text-align: right;\n",
       "    }\n",
       "</style>\n",
       "<table border=\"1\" class=\"dataframe\">\n",
       "  <thead>\n",
       "    <tr style=\"text-align: right;\">\n",
       "      <th></th>\n",
       "      <th>duration_sec</th>\n",
       "      <th>start_station_id</th>\n",
       "      <th>start_station_latitude</th>\n",
       "      <th>start_station_longitude</th>\n",
       "      <th>end_station_id</th>\n",
       "      <th>end_station_latitude</th>\n",
       "      <th>end_station_longitude</th>\n",
       "      <th>bike_id</th>\n",
       "    </tr>\n",
       "  </thead>\n",
       "  <tbody>\n",
       "    <tr>\n",
       "      <th>count</th>\n",
       "      <td>519700.000000</td>\n",
       "      <td>519700.000000</td>\n",
       "      <td>519700.000000</td>\n",
       "      <td>519700.000000</td>\n",
       "      <td>519700.000000</td>\n",
       "      <td>519700.000000</td>\n",
       "      <td>519700.000000</td>\n",
       "      <td>519700.000000</td>\n",
       "    </tr>\n",
       "    <tr>\n",
       "      <th>mean</th>\n",
       "      <td>1099.009521</td>\n",
       "      <td>95.034245</td>\n",
       "      <td>37.771653</td>\n",
       "      <td>-122.363927</td>\n",
       "      <td>92.184041</td>\n",
       "      <td>37.771844</td>\n",
       "      <td>-122.363236</td>\n",
       "      <td>1672.533079</td>\n",
       "    </tr>\n",
       "    <tr>\n",
       "      <th>std</th>\n",
       "      <td>3444.146451</td>\n",
       "      <td>86.083078</td>\n",
       "      <td>0.086305</td>\n",
       "      <td>0.105573</td>\n",
       "      <td>84.969491</td>\n",
       "      <td>0.086224</td>\n",
       "      <td>0.105122</td>\n",
       "      <td>971.356959</td>\n",
       "    </tr>\n",
       "    <tr>\n",
       "      <th>min</th>\n",
       "      <td>61.000000</td>\n",
       "      <td>3.000000</td>\n",
       "      <td>37.317298</td>\n",
       "      <td>-122.444293</td>\n",
       "      <td>3.000000</td>\n",
       "      <td>37.317298</td>\n",
       "      <td>-122.444293</td>\n",
       "      <td>10.000000</td>\n",
       "    </tr>\n",
       "    <tr>\n",
       "      <th>25%</th>\n",
       "      <td>382.000000</td>\n",
       "      <td>24.000000</td>\n",
       "      <td>37.773492</td>\n",
       "      <td>-122.411726</td>\n",
       "      <td>23.000000</td>\n",
       "      <td>37.774520</td>\n",
       "      <td>-122.410345</td>\n",
       "      <td>787.000000</td>\n",
       "    </tr>\n",
       "    <tr>\n",
       "      <th>50%</th>\n",
       "      <td>596.000000</td>\n",
       "      <td>67.000000</td>\n",
       "      <td>37.783521</td>\n",
       "      <td>-122.398870</td>\n",
       "      <td>66.000000</td>\n",
       "      <td>37.783830</td>\n",
       "      <td>-122.398525</td>\n",
       "      <td>1728.500000</td>\n",
       "    </tr>\n",
       "    <tr>\n",
       "      <th>75%</th>\n",
       "      <td>938.000000</td>\n",
       "      <td>139.000000</td>\n",
       "      <td>37.795392</td>\n",
       "      <td>-122.391034</td>\n",
       "      <td>134.000000</td>\n",
       "      <td>37.795392</td>\n",
       "      <td>-122.391034</td>\n",
       "      <td>2520.000000</td>\n",
       "    </tr>\n",
       "    <tr>\n",
       "      <th>max</th>\n",
       "      <td>86369.000000</td>\n",
       "      <td>340.000000</td>\n",
       "      <td>37.880222</td>\n",
       "      <td>-121.874119</td>\n",
       "      <td>340.000000</td>\n",
       "      <td>37.880222</td>\n",
       "      <td>-121.874119</td>\n",
       "      <td>3733.000000</td>\n",
       "    </tr>\n",
       "  </tbody>\n",
       "</table>\n",
       "</div>"
      ],
      "text/plain": [
       "        duration_sec  start_station_id  start_station_latitude  \\\n",
       "count  519700.000000     519700.000000           519700.000000   \n",
       "mean     1099.009521         95.034245               37.771653   \n",
       "std      3444.146451         86.083078                0.086305   \n",
       "min        61.000000          3.000000               37.317298   \n",
       "25%       382.000000         24.000000               37.773492   \n",
       "50%       596.000000         67.000000               37.783521   \n",
       "75%       938.000000        139.000000               37.795392   \n",
       "max     86369.000000        340.000000               37.880222   \n",
       "\n",
       "       start_station_longitude  end_station_id  end_station_latitude  \\\n",
       "count            519700.000000   519700.000000         519700.000000   \n",
       "mean               -122.363927       92.184041             37.771844   \n",
       "std                   0.105573       84.969491              0.086224   \n",
       "min                -122.444293        3.000000             37.317298   \n",
       "25%                -122.411726       23.000000             37.774520   \n",
       "50%                -122.398870       66.000000             37.783830   \n",
       "75%                -122.391034      134.000000             37.795392   \n",
       "max                -121.874119      340.000000             37.880222   \n",
       "\n",
       "       end_station_longitude        bike_id  \n",
       "count          519700.000000  519700.000000  \n",
       "mean             -122.363236    1672.533079  \n",
       "std                 0.105122     971.356959  \n",
       "min              -122.444293      10.000000  \n",
       "25%              -122.410345     787.000000  \n",
       "50%              -122.398525    1728.500000  \n",
       "75%              -122.391034    2520.000000  \n",
       "max              -121.874119    3733.000000  "
      ]
     },
     "execution_count": 7,
     "metadata": {},
     "output_type": "execute_result"
    }
   ],
   "source": [
    "df.describe()"
   ]
  },
  {
   "cell_type": "code",
   "execution_count": 9,
   "metadata": {},
   "outputs": [
    {
     "data": {
      "text/plain": [
       "0"
      ]
     },
     "execution_count": 9,
     "metadata": {},
     "output_type": "execute_result"
    }
   ],
   "source": [
    "df.duplicated().sum()"
   ]
  },
  {
   "cell_type": "markdown",
   "metadata": {},
   "source": [
    "### What is the structure of the dataset?\n",
    "\n",
    "> There are 519700 rows containing individaul ride information divided into 13 columns. This represents information about ride duration, start time and end time of the trip, start and end stations of the ride as well as whether the user was a member or a customer.\n",
    "\n",
    "### What is/are the main feature(s) of interest in the dataset?\n",
    "\n",
    "> I am mostly interested in finding out what was the most popular times for the rides in terms of day, day of the week or the month, distribution of travel time durations and whether being member or not influence the duration of the ride.\n",
    "\n",
    "> I expect that duration, start and end times of the ride and user_type columns will help the most in finding different trends and insights about the dataset"
   ]
  },
  {
   "cell_type": "markdown",
   "metadata": {},
   "source": [
    "## Univariate Exploration"
   ]
  },
  {
   "cell_type": "code",
   "execution_count": 43,
   "metadata": {
    "scrolled": true
   },
   "outputs": [
    {
     "data": {
      "image/png": "[encoded data removed]",
      "text/plain": [
       "<Figure size 432x288 with 1 Axes>"
      ]
     },
     "metadata": {},
     "output_type": "display_data"
    }
   ],
   "source": [
    "# Plot the distribution of travel times\n",
    "plt.hist(data=df, x='duration_sec');"
   ]
  },
  {
   "cell_type": "markdown",
   "metadata": {},
   "source": [
    "It seems that most of the rides fall into 0 and 10000 duration times. We should make a log transformation to see the trends"
   ]
  },
  {
   "cell_type": "code",
   "execution_count": 56,
   "metadata": {},
   "outputs": [
    {
     "data": {
      "image/png": "[encoded data removed]",
      "text/plain": [
       "<Figure size 432x288 with 1 Axes>"
      ]
     },
     "metadata": {
      "needs_background": "light"
     },
     "output_type": "display_data"
    }
   ],
   "source": [
    "bins = [0.1, 0.3, 1, 3, 10, 30, 100, 300, 1000, 3000, 10000, 30000, 100000]\n",
    "plt.hist(data=df, x='duration_sec', bins=bins)\n",
    "plt.xscale('log')\n",
    "ticks = [0.1, 0.3, 1, 3, 10, 30, 100, 300, 1000, 3000, 10000, 30000, 100000]\n",
    "tick_labels = ['{}'.format(v) for v in ticks]\n",
    "plt.xticks(ticks, tick_labels)\n",
    "plt.xlabel('Duration (seconds)');"
   ]
  },
  {
   "cell_type": "markdown",
   "metadata": {},
   "source": [
    "Now it can be seen that majority of the rides lasted between 300 and 1000 seconds, followed by other group of rides between 1000 and 3000."
   ]
  },
  {
   "cell_type": "markdown",
   "metadata": {},
   "source": [
    "Next let's explore which month of the year had seen the biggest number of rides. In order to do this, I am going to convert start and end times of the dataset to datetime and extract the month variable from those dates."
   ]
  },
  {
   "cell_type": "code",
   "execution_count": 26,
   "metadata": {},
   "outputs": [],
   "source": [
    "df['start_time'] = pd.to_datetime(df['start_time'])\n",
    "df['end_time'] = pd.to_datetime(df['end_time'])"
   ]
  },
  {
   "cell_type": "markdown",
   "metadata": {},
   "source": [
    "Although I converted both of the time columns to datetime, we only need the month from start time. So, I will create a new column to store the month the ride started"
   ]
  },
  {
   "cell_type": "code",
   "execution_count": 29,
   "metadata": {
    "scrolled": true
   },
   "outputs": [],
   "source": [
    "# Get the month of the start date\n",
    "df['month'] = pd.DatetimeIndex(df['start_time']).month\n",
    "# Convert the month from integer to its name\n",
    "df['month'] = df['month'].apply(lambda x: calendar.month_abbr[x])"
   ]
  },
  {
   "cell_type": "code",
   "execution_count": 39,
   "metadata": {},
   "outputs": [],
   "source": [
    "# To maintain the order of the months, we should explicitly correct this\n",
    "months = ['Jun', 'Jul', 'Aug', 'Sep', 'Oct', 'Nov', 'Dec']\n",
    "month_order = pd.api.types.CategoricalDtype(ordered=True, categories=months)\n",
    "df['month'] = df['month'].astype(month_order)"
   ]
  },
  {
   "cell_type": "code",
   "execution_count": 45,
   "metadata": {},
   "outputs": [
    {
     "data": {
      "image/png": "[encoded data removed]",
      "text/plain": [
       "<Figure size 432x288 with 1 Axes>"
      ]
     },
     "metadata": {},
     "output_type": "display_data"
    }
   ],
   "source": [
    "base_color = sb.color_palette()[1]\n",
    "sb.countplot(data=df, x='month', color=base_color);"
   ]
  },
  {
   "cell_type": "markdown",
   "metadata": {},
   "source": [
    "It appears that the most popular season for biking is autumn. Although we do not have data for all the months, it is important to note. Next variable I am going to look at is days of the week. Once again, I am creating a new column to store the weekday names."
   ]
  },
  {
   "cell_type": "code",
   "execution_count": 47,
   "metadata": {},
   "outputs": [],
   "source": [
    "# I am going to extract weekday names using the datetime module\n",
    "df['weekday'] = df['start_time'].apply(lambda x: dt.datetime.strftime(x, \"%A\"))"
   ]
  },
  {
   "cell_type": "code",
   "execution_count": 49,
   "metadata": {},
   "outputs": [],
   "source": [
    "# As before, set the ordering of the weekdays\n",
    "weekday = ['Monday', 'Tuesday', 'Wednesday', 'Thursday', 'Friday', 'Saturday', 'Sunday']\n",
    "week_order = pd.api.types.CategoricalDtype(ordered=True, categories=weekday)\n",
    "df['weekday'] = df['weekday'].astype(week_order)"
   ]
  },
  {
   "cell_type": "markdown",
   "metadata": {},
   "source": [
    "Now, let's look at the distribution"
   ]
  },
  {
   "cell_type": "code",
   "execution_count": 52,
   "metadata": {},
   "outputs": [
    {
     "data": {
      "image/png": "[encoded data removed]",
      "text/plain": [
       "<Figure size 432x288 with 1 Axes>"
      ]
     },
     "metadata": {
      "needs_background": "light"
     },
     "output_type": "display_data"
    }
   ],
   "source": [
    "color = sb.color_palette()[0]\n",
    "sb.countplot(data=df, x='weekday', color=color);"
   ]
  },
  {
   "cell_type": "markdown",
   "metadata": {},
   "source": [
    "As you might imagine, this insight is pretty interesting. I assumed that weekends would be much more popular to go biking than weekdays but the countplot above proved otherwise."
   ]
  },
  {
   "cell_type": "markdown",
   "metadata": {},
   "source": [
    "### Discuss the distribution(s) of your variable(s) of interest. Were there any unusual points? Did you need to perform any transformations?\n",
    "\n",
    "> As the travel times were given in seconds, I had to transform the x axis using a log transform. From that, I found out that majority of travel times lasted bertween 5-15 minutes. Moreover, to look at the distributions of months and weekdays, I had to set their ordering beforehand. I found surprising patters in both months and weekday distributions. Of the months, september, october and november were the most popular times of your to go biking. Similarly, when I assumed that the weekends would have large numbers for number of rentals, weekdays turned out to have much higher rental counts than weekends."
   ]
  },
  {
   "cell_type": "markdown",
   "metadata": {},
   "source": [
    "## Bivariate Exploration"
   ]
  },
  {
   "cell_type": "markdown",
   "metadata": {},
   "source": [
    "In this section I will be focusing on duration time vs. other features of rides like time of the year, time of the week, types of users and others."
   ]
  },
  {
   "cell_type": "markdown",
   "metadata": {},
   "source": [
    "First of all, I am going to see if different types of sucscriptions affect the duration."
   ]
  },
  {
   "cell_type": "code",
   "execution_count": 58,
   "metadata": {
    "scrolled": true
   },
   "outputs": [
    {
     "data": {
      "image/png": "[encoded data removed]",
      "text/plain": [
       "<Figure size 432x288 with 1 Axes>"
      ]
     },
     "metadata": {
      "needs_background": "light"
     },
     "output_type": "display_data"
    }
   ],
   "source": [
    "sb.boxplot(data=df, x='user_type', y='duration_sec');"
   ]
  },
  {
   "cell_type": "markdown",
   "metadata": {},
   "source": [
    "The above poxplot reveals that there are huge outliers for both customer types. That's why I think, it is a good idea to look at durations below between 5-50 minutes because we now that majority of rides fall into that category. "
   ]
  },
  {
   "cell_type": "code",
   "execution_count": 61,
   "metadata": {},
   "outputs": [],
   "source": [
    "less_durations = df[(df.duration_sec > 300) & (df.duration_sec < 3000)]"
   ]
  },
  {
   "cell_type": "code",
   "execution_count": 63,
   "metadata": {},
   "outputs": [
    {
     "data": {
      "image/png": "[encoded data removed]",
      "text/plain": [
       "<Figure size 432x288 with 1 Axes>"
      ]
     },
     "metadata": {
      "needs_background": "light"
     },
     "output_type": "display_data"
    }
   ],
   "source": [
    "sb.violinplot(data=less_durations, x='user_type', y='duration_sec');"
   ]
  },
  {
   "cell_type": "markdown",
   "metadata": {},
   "source": [
    "The violin plot above shows that generally, the median duration was higher for customers. Also, the duration times for customers were more spread out and normally distributed while a very large group of subscribers' ride lengths were centered around 7-8 minutes."
   ]
  },
  {
   "cell_type": "markdown",
   "metadata": {},
   "source": [
    "Second, I think that the relationship between user type and different times of year will be interesting. For this I will be using clustered bar charts."
   ]
  },
  {
   "cell_type": "code",
   "execution_count": 64,
   "metadata": {},
   "outputs": [
    {
     "data": {
      "image/png": "[encoded data removed]",
      "text/plain": [
       "<Figure size 432x288 with 1 Axes>"
      ]
     },
     "metadata": {
      "needs_background": "light"
     },
     "output_type": "display_data"
    }
   ],
   "source": [
    "sb.countplot(data=less_durations, x='month', hue='user_type');"
   ]
  },
  {
   "cell_type": "markdown",
   "metadata": {},
   "source": [
    "As you can see, although customers generally had longer durations, the number of subsribers heavily outweighs the number of customers in each month. This trend is even more pronounced in autumn season. Well, that would make sense because we already knew that regradless of user type, autumn was the best time for biking in 2017."
   ]
  },
  {
   "cell_type": "markdown",
   "metadata": {},
   "source": [
    "Let's also look at the weekday, too. I am going to use the same appoach as before."
   ]
  },
  {
   "cell_type": "code",
   "execution_count": 66,
   "metadata": {},
   "outputs": [
    {
     "data": {
      "image/png": "[encoded data removed]",
      "text/plain": [
       "<Figure size 432x288 with 1 Axes>"
      ]
     },
     "metadata": {
      "needs_background": "light"
     },
     "output_type": "display_data"
    }
   ],
   "source": [
    "sb.countplot(data=less_durations, x='weekday', hue='user_type');"
   ]
  },
  {
   "cell_type": "markdown",
   "metadata": {},
   "source": [
    "The trend we see in the above barchart confirms our findings in the first section. There were much more rides in weekdays than weekends and once again, the subscribers accounted for the majority."
   ]
  },
  {
   "cell_type": "markdown",
   "metadata": {},
   "source": [
    "One last thing I am going to look at is the correlation between duration and days of the week, because I think that rides happened in weekends would be longer than those in weekdays."
   ]
  },
  {
   "cell_type": "code",
   "execution_count": 68,
   "metadata": {},
   "outputs": [
    {
     "data": {
      "image/png": "[encoded data removed]",
      "text/plain": [
       "<Figure size 432x288 with 1 Axes>"
      ]
     },
     "metadata": {
      "needs_background": "light"
     },
     "output_type": "display_data"
    }
   ],
   "source": [
    "sb.boxplot(data=less_durations, x='weekday', y='duration_sec', color=color);"
   ]
  },
  {
   "cell_type": "markdown",
   "metadata": {},
   "source": [
    "The boxplot above confirms my assumptions. Rides DO last longer during weekdays. Also, there are fewer outliers in weekends making the duration spread more normal which supports my claim even further."
   ]
  },
  {
   "cell_type": "markdown",
   "metadata": {},
   "source": [
    "### Talk about some of the relationships you observed in this part of the investigation. How did the feature(s) of interest vary with other features in the dataset?\n",
    "\n",
    "> In this section of my analysis, I generally focused more on the relationship of user types versus other factors like time of the year and day of the week. I also briefly epxlored duration times versus user type and the above variables. My findings suggest that there were much more subscribers than customers in the year of 2017. However, the duration times for customers were more normally spread out and the median duration was bigger than that of subscribes. \n",
    "\n",
    "### Did you observe any interesting relationships between the other features (not the main feature(s) of interest)?\n",
    "\n",
    "> Your answer here!"
   ]
  },
  {
   "cell_type": "markdown",
   "metadata": {},
   "source": [
    "## Multivariate Exploration\n",
    "\n",
    "> Create plots of three or more variables to investigate your data even\n",
    "further. Make sure that your investigations are justified, and follow from\n",
    "your work in the previous sections."
   ]
  },
  {
   "cell_type": "code",
   "execution_count": null,
   "metadata": {},
   "outputs": [],
   "source": []
  },
  {
   "cell_type": "markdown",
   "metadata": {},
   "source": [
    "### Talk about some of the relationships you observed in this part of the investigation. Were there features that strengthened each other in terms of looking at your feature(s) of interest?\n",
    "\n",
    "> Your answer here!\n",
    "\n",
    "### Were there any interesting or surprising interactions between features?\n",
    "\n",
    "> Your answer here!"
   ]
  },
  {
   "cell_type": "markdown",
   "metadata": {},
   "source": [
    "> At the end of your report, make sure that you export the notebook as an\n",
    "html file from the `File > Download as... > HTML` menu. Make sure you keep\n",
    "track of where the exported file goes, so you can put it in the same folder\n",
    "as this notebook for project submission. Also, make sure you remove all of\n",
    "the quote-formatted guide notes like this one before you finish your report!"
   ]
  },
  {
   "cell_type": "code",
   "execution_count": null,
   "metadata": {},
   "outputs": [],
   "source": []
  }
 ],
 "metadata": {
  "kernelspec": {
   "display_name": "Python 3",
   "language": "python",
   "name": "python3"
  },
  "language_info": {
   "codemirror_mode": {
    "name": "ipython",
    "version": 3
   },
   "file_extension": ".py",
   "mimetype": "text/x-python",
   "name": "python",
   "nbconvert_exporter": "python",
   "pygments_lexer": "ipython3",
   "version": "3.7.6"
  }
 },
 "nbformat": 4,
 "nbformat_minor": 2
}
