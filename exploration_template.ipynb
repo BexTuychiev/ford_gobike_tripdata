{
 "cells": [
  {
   "cell_type": "markdown",
   "metadata": {},
   "source": [
    "# Ford GoBike Tripdata Exploration\n",
    "## by Bex\n",
    "\n",
    "## Preliminary Wrangling\n",
    "\n",
    "The dataset contains nearly 520k records of individual rides in a bike-sharing system of Ford in San Francisco Bay area for the year 2017. "
   ]
  },
  {
   "cell_type": "code",
   "execution_count": 1,
   "metadata": {},
   "outputs": [],
   "source": [
    "# import all packages and set plots to be embedded inline\n",
    "import numpy as np\n",
    "import pandas as pd\n",
    "import matplotlib.pyplot as plt\n",
    "import seaborn as sb\n",
    "\n",
    "%matplotlib inline"
   ]
  },
  {
   "cell_type": "code",
   "execution_count": 3,
   "metadata": {},
   "outputs": [],
   "source": [
    "# Read in the dataset\n",
    "df = pd.read_csv('data/fordgobike-tripdata-2017.csv')"
   ]
  },
  {
   "cell_type": "code",
   "execution_count": 5,
   "metadata": {
    "scrolled": true
   },
   "outputs": [
    {
     "data": {
      "text/plain": [
       "(519700, 13)"
      ]
     },
     "execution_count": 5,
     "metadata": {},
     "output_type": "execute_result"
    }
   ],
   "source": [
    "df.shape"
   ]
  },
  {
   "cell_type": "code",
   "execution_count": 6,
   "metadata": {},
   "outputs": [
    {
     "name": "stdout",
     "output_type": "stream",
     "text": [
      "<class 'pandas.core.frame.DataFrame'>\n",
      "RangeIndex: 519700 entries, 0 to 519699\n",
      "Data columns (total 13 columns):\n",
      " #   Column                   Non-Null Count   Dtype  \n",
      "---  ------                   --------------   -----  \n",
      " 0   duration_sec             519700 non-null  int64  \n",
      " 1   start_time               519700 non-null  object \n",
      " 2   end_time                 519700 non-null  object \n",
      " 3   start_station_id         519700 non-null  int64  \n",
      " 4   start_station_name       519700 non-null  object \n",
      " 5   start_station_latitude   519700 non-null  float64\n",
      " 6   start_station_longitude  519700 non-null  float64\n",
      " 7   end_station_id           519700 non-null  int64  \n",
      " 8   end_station_name         519700 non-null  object \n",
      " 9   end_station_latitude     519700 non-null  float64\n",
      " 10  end_station_longitude    519700 non-null  float64\n",
      " 11  bike_id                  519700 non-null  int64  \n",
      " 12  user_type                519700 non-null  object \n",
      "dtypes: float64(4), int64(4), object(5)\n",
      "memory usage: 51.5+ MB\n"
     ]
    }
   ],
   "source": [
    "df.info()"
   ]
  },
  {
   "cell_type": "code",
   "execution_count": 7,
   "metadata": {
    "scrolled": true
   },
   "outputs": [
    {
     "data": {
      "text/html": [
       "<div>\n",
       "<style scoped>\n",
       "    .dataframe tbody tr th:only-of-type {\n",
       "        vertical-align: middle;\n",
       "    }\n",
       "\n",
       "    .dataframe tbody tr th {\n",
       "        vertical-align: top;\n",
       "    }\n",
       "\n",
       "    .dataframe thead th {\n",
       "        text-align: right;\n",
       "    }\n",
       "</style>\n",
       "<table border=\"1\" class=\"dataframe\">\n",
       "  <thead>\n",
       "    <tr style=\"text-align: right;\">\n",
       "      <th></th>\n",
       "      <th>duration_sec</th>\n",
       "      <th>start_station_id</th>\n",
       "      <th>start_station_latitude</th>\n",
       "      <th>start_station_longitude</th>\n",
       "      <th>end_station_id</th>\n",
       "      <th>end_station_latitude</th>\n",
       "      <th>end_station_longitude</th>\n",
       "      <th>bike_id</th>\n",
       "    </tr>\n",
       "  </thead>\n",
       "  <tbody>\n",
       "    <tr>\n",
       "      <th>count</th>\n",
       "      <td>519700.000000</td>\n",
       "      <td>519700.000000</td>\n",
       "      <td>519700.000000</td>\n",
       "      <td>519700.000000</td>\n",
       "      <td>519700.000000</td>\n",
       "      <td>519700.000000</td>\n",
       "      <td>519700.000000</td>\n",
       "      <td>519700.000000</td>\n",
       "    </tr>\n",
       "    <tr>\n",
       "      <th>mean</th>\n",
       "      <td>1099.009521</td>\n",
       "      <td>95.034245</td>\n",
       "      <td>37.771653</td>\n",
       "      <td>-122.363927</td>\n",
       "      <td>92.184041</td>\n",
       "      <td>37.771844</td>\n",
       "      <td>-122.363236</td>\n",
       "      <td>1672.533079</td>\n",
       "    </tr>\n",
       "    <tr>\n",
       "      <th>std</th>\n",
       "      <td>3444.146451</td>\n",
       "      <td>86.083078</td>\n",
       "      <td>0.086305</td>\n",
       "      <td>0.105573</td>\n",
       "      <td>84.969491</td>\n",
       "      <td>0.086224</td>\n",
       "      <td>0.105122</td>\n",
       "      <td>971.356959</td>\n",
       "    </tr>\n",
       "    <tr>\n",
       "      <th>min</th>\n",
       "      <td>61.000000</td>\n",
       "      <td>3.000000</td>\n",
       "      <td>37.317298</td>\n",
       "      <td>-122.444293</td>\n",
       "      <td>3.000000</td>\n",
       "      <td>37.317298</td>\n",
       "      <td>-122.444293</td>\n",
       "      <td>10.000000</td>\n",
       "    </tr>\n",
       "    <tr>\n",
       "      <th>25%</th>\n",
       "      <td>382.000000</td>\n",
       "      <td>24.000000</td>\n",
       "      <td>37.773492</td>\n",
       "      <td>-122.411726</td>\n",
       "      <td>23.000000</td>\n",
       "      <td>37.774520</td>\n",
       "      <td>-122.410345</td>\n",
       "      <td>787.000000</td>\n",
       "    </tr>\n",
       "    <tr>\n",
       "      <th>50%</th>\n",
       "      <td>596.000000</td>\n",
       "      <td>67.000000</td>\n",
       "      <td>37.783521</td>\n",
       "      <td>-122.398870</td>\n",
       "      <td>66.000000</td>\n",
       "      <td>37.783830</td>\n",
       "      <td>-122.398525</td>\n",
       "      <td>1728.500000</td>\n",
       "    </tr>\n",
       "    <tr>\n",
       "      <th>75%</th>\n",
       "      <td>938.000000</td>\n",
       "      <td>139.000000</td>\n",
       "      <td>37.795392</td>\n",
       "      <td>-122.391034</td>\n",
       "      <td>134.000000</td>\n",
       "      <td>37.795392</td>\n",
       "      <td>-122.391034</td>\n",
       "      <td>2520.000000</td>\n",
       "    </tr>\n",
       "    <tr>\n",
       "      <th>max</th>\n",
       "      <td>86369.000000</td>\n",
       "      <td>340.000000</td>\n",
       "      <td>37.880222</td>\n",
       "      <td>-121.874119</td>\n",
       "      <td>340.000000</td>\n",
       "      <td>37.880222</td>\n",
       "      <td>-121.874119</td>\n",
       "      <td>3733.000000</td>\n",
       "    </tr>\n",
       "  </tbody>\n",
       "</table>\n",
       "</div>"
      ],
      "text/plain": [
       "        duration_sec  start_station_id  start_station_latitude  \\\n",
       "count  519700.000000     519700.000000           519700.000000   \n",
       "mean     1099.009521         95.034245               37.771653   \n",
       "std      3444.146451         86.083078                0.086305   \n",
       "min        61.000000          3.000000               37.317298   \n",
       "25%       382.000000         24.000000               37.773492   \n",
       "50%       596.000000         67.000000               37.783521   \n",
       "75%       938.000000        139.000000               37.795392   \n",
       "max     86369.000000        340.000000               37.880222   \n",
       "\n",
       "       start_station_longitude  end_station_id  end_station_latitude  \\\n",
       "count            519700.000000   519700.000000         519700.000000   \n",
       "mean               -122.363927       92.184041             37.771844   \n",
       "std                   0.105573       84.969491              0.086224   \n",
       "min                -122.444293        3.000000             37.317298   \n",
       "25%                -122.411726       23.000000             37.774520   \n",
       "50%                -122.398870       66.000000             37.783830   \n",
       "75%                -122.391034      134.000000             37.795392   \n",
       "max                -121.874119      340.000000             37.880222   \n",
       "\n",
       "       end_station_longitude        bike_id  \n",
       "count          519700.000000  519700.000000  \n",
       "mean             -122.363236    1672.533079  \n",
       "std                 0.105122     971.356959  \n",
       "min              -122.444293      10.000000  \n",
       "25%              -122.410345     787.000000  \n",
       "50%              -122.398525    1728.500000  \n",
       "75%              -122.391034    2520.000000  \n",
       "max              -121.874119    3733.000000  "
      ]
     },
     "execution_count": 7,
     "metadata": {},
     "output_type": "execute_result"
    }
   ],
   "source": [
    "df.describe()"
   ]
  },
  {
   "cell_type": "code",
   "execution_count": 9,
   "metadata": {},
   "outputs": [
    {
     "data": {
      "text/plain": [
       "0"
      ]
     },
     "execution_count": 9,
     "metadata": {},
     "output_type": "execute_result"
    }
   ],
   "source": [
    "df.duplicated().sum()"
   ]
  },
  {
   "cell_type": "markdown",
   "metadata": {},
   "source": [
    "### What is the structure of the dataset?\n",
    "\n",
    "> There are 519700 rows containing individaul ride information divided into 13 columns. This represents information about ride duration, start time and end time of the trip, start and end stations of the ride as well as whether the user was a member or a customer.\n",
    "\n",
    "### What is/are the main feature(s) of interest in the dataset?\n",
    "\n",
    "> I am mostly interested in finding out what was the most popular times for the rides in terms of day, day of the week or the month, distribution of travel time durations and whether being member or not influence the duration of the ride.\n",
    "\n",
    "> I expect that duration, start and end times of the ride and user_type columns will help the most in finding different trends and insights about the dataset"
   ]
  },
  {
   "cell_type": "markdown",
   "metadata": {},
   "source": [
    "## Univariate Exploration"
   ]
  },
  {
   "cell_type": "code",
   "execution_count": 11,
   "metadata": {},
   "outputs": [
    {
     "data": {
      "image/png": "[encoded data removed]",
      "text/plain": [
       "<Figure size 432x288 with 1 Axes>"
      ]
     },
     "metadata": {
      "needs_background": "light"
     },
     "output_type": "display_data"
    }
   ],
   "source": [
    "# Plot the distribution of travel times\n",
    "plt.hist(data=df, x='duration_sec');"
   ]
  },
  {
   "cell_type": "markdown",
   "metadata": {},
   "source": [
    "It seems that most of the rides fall "
   ]
  },
  {
   "cell_type": "code",
   "execution_count": null,
   "metadata": {},
   "outputs": [],
   "source": []
  },
  {
   "cell_type": "markdown",
   "metadata": {},
   "source": [
    "> Make sure that, after every plot or related series of plots, that you\n",
    "include a Markdown cell with comments about what you observed, and what\n",
    "you plan on investigating next."
   ]
  },
  {
   "cell_type": "code",
   "execution_count": null,
   "metadata": {},
   "outputs": [],
   "source": []
  },
  {
   "cell_type": "markdown",
   "metadata": {},
   "source": [
    "### Discuss the distribution(s) of your variable(s) of interest. Were there any unusual points? Did you need to perform any transformations?\n",
    "\n",
    "> Your answer here!\n",
    "\n",
    "### Of the features you investigated, were there any unusual distributions? Did you perform any operations on the data to tidy, adjust, or change the form of the data? If so, why did you do this?\n",
    "\n",
    "> Your answer here!"
   ]
  },
  {
   "cell_type": "markdown",
   "metadata": {},
   "source": [
    "## Bivariate Exploration\n",
    "\n",
    "> In this section, investigate relationships between pairs of variables in your\n",
    "data. Make sure the variables that you cover here have been introduced in some\n",
    "fashion in the previous section (univariate exploration)."
   ]
  },
  {
   "cell_type": "code",
   "execution_count": null,
   "metadata": {},
   "outputs": [],
   "source": []
  },
  {
   "cell_type": "markdown",
   "metadata": {},
   "source": [
    "### Talk about some of the relationships you observed in this part of the investigation. How did the feature(s) of interest vary with other features in the dataset?\n",
    "\n",
    "> Your answer here!\n",
    "\n",
    "### Did you observe any interesting relationships between the other features (not the main feature(s) of interest)?\n",
    "\n",
    "> Your answer here!"
   ]
  },
  {
   "cell_type": "markdown",
   "metadata": {},
   "source": [
    "## Multivariate Exploration\n",
    "\n",
    "> Create plots of three or more variables to investigate your data even\n",
    "further. Make sure that your investigations are justified, and follow from\n",
    "your work in the previous sections."
   ]
  },
  {
   "cell_type": "code",
   "execution_count": null,
   "metadata": {},
   "outputs": [],
   "source": []
  },
  {
   "cell_type": "markdown",
   "metadata": {},
   "source": [
    "### Talk about some of the relationships you observed in this part of the investigation. Were there features that strengthened each other in terms of looking at your feature(s) of interest?\n",
    "\n",
    "> Your answer here!\n",
    "\n",
    "### Were there any interesting or surprising interactions between features?\n",
    "\n",
    "> Your answer here!"
   ]
  },
  {
   "cell_type": "markdown",
   "metadata": {},
   "source": [
    "> At the end of your report, make sure that you export the notebook as an\n",
    "html file from the `File > Download as... > HTML` menu. Make sure you keep\n",
    "track of where the exported file goes, so you can put it in the same folder\n",
    "as this notebook for project submission. Also, make sure you remove all of\n",
    "the quote-formatted guide notes like this one before you finish your report!"
   ]
  },
  {
   "cell_type": "code",
   "execution_count": null,
   "metadata": {},
   "outputs": [],
   "source": []
  }
 ],
 "metadata": {
  "kernelspec": {
   "display_name": "Python 3",
   "language": "python",
   "name": "python3"
  },
  "language_info": {
   "codemirror_mode": {
    "name": "ipython",
    "version": 3
   },
   "file_extension": ".py",
   "mimetype": "text/x-python",
   "name": "python",
   "nbconvert_exporter": "python",
   "pygments_lexer": "ipython3",
   "version": "3.7.6"
  }
 },
 "nbformat": 4,
 "nbformat_minor": 2
}
